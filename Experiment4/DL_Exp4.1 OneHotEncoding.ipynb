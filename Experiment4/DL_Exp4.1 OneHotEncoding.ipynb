{
 "cells": [
  {
   "cell_type": "markdown",
   "id": "7dc02190",
   "metadata": {
    "papermill": {
     "duration": 0.00425,
     "end_time": "2025-03-20T03:44:19.274958",
     "exception": false,
     "start_time": "2025-03-20T03:44:19.270708",
     "status": "completed"
    },
    "tags": []
   },
   "source": [
    "**Step 1: Import Libraries**"
   ]
  },
  {
   "cell_type": "code",
   "execution_count": 1,
   "id": "6f98cff8",
   "metadata": {
    "_cell_guid": "b1076dfc-b9ad-4769-8c92-a6c4dae69d19",
    "_uuid": "8f2839f25d086af736a60e9eeb907d3b93b6e0e5",
    "execution": {
     "iopub.execute_input": "2025-03-20T03:44:19.282817Z",
     "iopub.status.busy": "2025-03-20T03:44:19.282441Z",
     "iopub.status.idle": "2025-03-20T03:44:25.673695Z",
     "shell.execute_reply": "2025-03-20T03:44:25.672985Z"
    },
    "papermill": {
     "duration": 6.397001,
     "end_time": "2025-03-20T03:44:25.675424",
     "exception": false,
     "start_time": "2025-03-20T03:44:19.278423",
     "status": "completed"
    },
    "tags": []
   },
   "outputs": [],
   "source": [
    "import torch\n",
    "import torch.nn as nn\n",
    "import torch.nn.functional as F\n",
    "import torch.optim as optim\n",
    "import random\n",
    "import re\n",
    "import pandas as pd\n",
    "from torch.utils.data import Dataset, DataLoader\n"
   ]
  },
  {
   "cell_type": "markdown",
   "id": "2891160e",
   "metadata": {
    "papermill": {
     "duration": 0.003329,
     "end_time": "2025-03-20T03:44:25.682863",
     "exception": false,
     "start_time": "2025-03-20T03:44:25.679534",
     "status": "completed"
    },
    "tags": []
   },
   "source": [
    "**Step 2: Load and Preprocess Dataset**"
   ]
  },
  {
   "cell_type": "code",
   "execution_count": 2,
   "id": "3d0dee4d",
   "metadata": {
    "execution": {
     "iopub.execute_input": "2025-03-20T03:44:25.691315Z",
     "iopub.status.busy": "2025-03-20T03:44:25.690820Z",
     "iopub.status.idle": "2025-03-20T03:44:25.739700Z",
     "shell.execute_reply": "2025-03-20T03:44:25.738566Z"
    },
    "papermill": {
     "duration": 0.055097,
     "end_time": "2025-03-20T03:44:25.741450",
     "exception": false,
     "start_time": "2025-03-20T03:44:25.686353",
     "status": "completed"
    },
    "tags": []
   },
   "outputs": [
    {
     "name": "stdout",
     "output_type": "stream",
     "text": [
      "Column names in the dataset: Index(['text'], dtype='object')\n",
      "                                                text  \\\n",
      "0  O my Luve's like a red, red rose\\nThat’s newly...   \n",
      "1  The rose is red,\\nThe violet's blue,\\nSugar is...   \n",
      "2  How do I love thee? Let me count the ways.\\nI ...   \n",
      "3  Had I the heavens' embroidered cloths,\\nEnwrou...   \n",
      "4  I.\\n    Enough! we're tired, my heart and I.\\n...   \n",
      "\n",
      "                                              tokens  \n",
      "0  [o, my, luves, like, a, red,, red, rose, thats...  \n",
      "1  [the, rose, is, red,, the, violets, blue,, sug...  \n",
      "2  [how, do, i, love, thee?, let, me, count, the,...  \n",
      "3  [had, i, the, heavens, embroidered, cloths,, e...  \n",
      "4  [i., enough!, were, tired,, my, heart, and, i....  \n"
     ]
    }
   ],
   "source": [
    "# Load the dataset\n",
    "dataset_path = \"/kaggle/input/poems/poems-100.csv\"\n",
    "df = pd.read_csv(dataset_path)\n",
    "\n",
    "# Check column names\n",
    "print(\"Column names in the dataset:\", df.columns)\n",
    "\n",
    "# Preprocess text (tokenization, lowercasing, etc.)\n",
    "def preprocess_text(text):\n",
    "    text = text.lower()\n",
    "    text = re.sub(r\"[^a-zA-Z0-9\\s.,!?]\", \"\", text)  # Keep basic punctuation\n",
    "    return text.split()\n",
    "\n",
    "# Ensure correct column name\n",
    "correct_column_name = \"text\"  # Update if column name is different\n",
    "df[\"tokens\"] = df[correct_column_name].apply(preprocess_text)\n",
    "\n",
    "# Display the first few rows\n",
    "print(df.head())\n"
   ]
  },
  {
   "cell_type": "markdown",
   "id": "26432c8f",
   "metadata": {
    "papermill": {
     "duration": 0.003768,
     "end_time": "2025-03-20T03:44:25.749565",
     "exception": false,
     "start_time": "2025-03-20T03:44:25.745797",
     "status": "completed"
    },
    "tags": []
   },
   "source": [
    "**Step 3: Create Vocabulary**"
   ]
  },
  {
   "cell_type": "code",
   "execution_count": 3,
   "id": "e0e40713",
   "metadata": {
    "execution": {
     "iopub.execute_input": "2025-03-20T03:44:25.757623Z",
     "iopub.status.busy": "2025-03-20T03:44:25.757310Z",
     "iopub.status.idle": "2025-03-20T03:44:25.767720Z",
     "shell.execute_reply": "2025-03-20T03:44:25.766861Z"
    },
    "papermill": {
     "duration": 0.015841,
     "end_time": "2025-03-20T03:44:25.768968",
     "exception": false,
     "start_time": "2025-03-20T03:44:25.753127",
     "status": "completed"
    },
    "tags": []
   },
   "outputs": [
    {
     "name": "stdout",
     "output_type": "stream",
     "text": [
      "Vocabulary size: 6725\n"
     ]
    }
   ],
   "source": [
    "# Create vocabulary\n",
    "all_words = [word for tokens in df[\"tokens\"] for word in tokens]\n",
    "unique_words = list(set(all_words))\n",
    "word_vocab = {word: idx for idx, word in enumerate(unique_words)}\n",
    "vocab_reverse = {idx: word for word, idx in word_vocab.items()}\n",
    "\n",
    "# Vocabulary size\n",
    "vocab_size = len(word_vocab)\n",
    "print(f\"Vocabulary size: {vocab_size}\")\n"
   ]
  },
  {
   "cell_type": "markdown",
   "id": "c5eebedd",
   "metadata": {
    "papermill": {
     "duration": 0.00344,
     "end_time": "2025-03-20T03:44:25.776105",
     "exception": false,
     "start_time": "2025-03-20T03:44:25.772665",
     "status": "completed"
    },
    "tags": []
   },
   "source": [
    "**Step 4: Convert Data to One-Hot Encoded Sequences**"
   ]
  },
  {
   "cell_type": "code",
   "execution_count": 4,
   "id": "8791d925",
   "metadata": {
    "execution": {
     "iopub.execute_input": "2025-03-20T03:44:25.784008Z",
     "iopub.status.busy": "2025-03-20T03:44:25.783774Z",
     "iopub.status.idle": "2025-03-20T03:44:28.109564Z",
     "shell.execute_reply": "2025-03-20T03:44:28.108850Z"
    },
    "papermill": {
     "duration": 2.33136,
     "end_time": "2025-03-20T03:44:28.111072",
     "exception": false,
     "start_time": "2025-03-20T03:44:25.779712",
     "status": "completed"
    },
    "tags": []
   },
   "outputs": [],
   "source": [
    "sequence_length = 5  # Number of words used as input\n",
    "\n",
    "# One-hot encoding function\n",
    "def one_hot_encode(indices, vocab_size):\n",
    "    batch_size = len(indices)\n",
    "    seq_length = len(indices[0])\n",
    "    one_hot = torch.zeros(batch_size, seq_length, vocab_size)  # Shape: (batch, seq_len, vocab_size)\n",
    "    \n",
    "    for i in range(batch_size):\n",
    "        for j in range(seq_length):\n",
    "            one_hot[i, j, indices[i][j]] = 1.0  # Set correct index to 1\n",
    "\n",
    "    return one_hot\n",
    "\n",
    "# Create sequences\n",
    "def create_sequences(tokens, seq_length):\n",
    "    input_seqs, target_seqs = [], []\n",
    "    for i in range(len(tokens) - seq_length):\n",
    "        input_seqs.append([word_vocab[t] for t in tokens[i:i+seq_length]])\n",
    "        target_seqs.append(word_vocab[tokens[i+seq_length]])\n",
    "    return input_seqs, target_seqs\n",
    "\n",
    "# Prepare dataset\n",
    "input_seqs, target_seqs = [], []\n",
    "for tokens in df[\"tokens\"]:\n",
    "    inp, tgt = create_sequences(tokens, sequence_length)\n",
    "    input_seqs.extend(inp)\n",
    "    target_seqs.extend(tgt)\n",
    "\n",
    "# Convert to tensors\n",
    "input_seqs = one_hot_encode(input_seqs, vocab_size)  # One-hot encode inputs\n",
    "target_seqs = torch.tensor(target_seqs, dtype=torch.long)\n"
   ]
  },
  {
   "cell_type": "markdown",
   "id": "dbfb00cc",
   "metadata": {
    "papermill": {
     "duration": 0.003771,
     "end_time": "2025-03-20T03:44:28.119104",
     "exception": false,
     "start_time": "2025-03-20T03:44:28.115333",
     "status": "completed"
    },
    "tags": []
   },
   "source": [
    "**Step 5: Define Dataset & DataLoader**"
   ]
  },
  {
   "cell_type": "code",
   "execution_count": 5,
   "id": "78ab1a99",
   "metadata": {
    "execution": {
     "iopub.execute_input": "2025-03-20T03:44:28.127423Z",
     "iopub.status.busy": "2025-03-20T03:44:28.127112Z",
     "iopub.status.idle": "2025-03-20T03:44:28.134130Z",
     "shell.execute_reply": "2025-03-20T03:44:28.133297Z"
    },
    "papermill": {
     "duration": 0.012929,
     "end_time": "2025-03-20T03:44:28.135618",
     "exception": false,
     "start_time": "2025-03-20T03:44:28.122689",
     "status": "completed"
    },
    "tags": []
   },
   "outputs": [],
   "source": [
    "class PoemDataset(Dataset):\n",
    "    def __init__(self, inputs, targets):\n",
    "        self.inputs = inputs\n",
    "        self.targets = targets\n",
    "\n",
    "    def __len__(self):\n",
    "        return len(self.inputs)\n",
    "\n",
    "    def __getitem__(self, idx):\n",
    "        return self.inputs[idx], self.targets[idx]\n",
    "\n",
    "batch_size = 64\n",
    "dataset = PoemDataset(input_seqs, target_seqs)\n",
    "dataloader = DataLoader(dataset, batch_size=batch_size, shuffle=True)\n"
   ]
  },
  {
   "cell_type": "markdown",
   "id": "1913071a",
   "metadata": {
    "papermill": {
     "duration": 0.003455,
     "end_time": "2025-03-20T03:44:28.143115",
     "exception": false,
     "start_time": "2025-03-20T03:44:28.139660",
     "status": "completed"
    },
    "tags": []
   },
   "source": [
    "**Step 6: Define the RNN Model**"
   ]
  },
  {
   "cell_type": "code",
   "execution_count": 6,
   "id": "07754be9",
   "metadata": {
    "execution": {
     "iopub.execute_input": "2025-03-20T03:44:28.151386Z",
     "iopub.status.busy": "2025-03-20T03:44:28.151134Z",
     "iopub.status.idle": "2025-03-20T03:44:28.156008Z",
     "shell.execute_reply": "2025-03-20T03:44:28.155049Z"
    },
    "papermill": {
     "duration": 0.010456,
     "end_time": "2025-03-20T03:44:28.157315",
     "exception": false,
     "start_time": "2025-03-20T03:44:28.146859",
     "status": "completed"
    },
    "tags": []
   },
   "outputs": [],
   "source": [
    "class PoemRNN(nn.Module):\n",
    "    def __init__(self, vocab_size, hidden_size, num_layers):\n",
    "        super(PoemRNN, self).__init__()\n",
    "        self.lstm = nn.LSTM(vocab_size, hidden_size, num_layers, batch_first=True)\n",
    "        self.fc = nn.Linear(hidden_size, vocab_size)\n",
    "\n",
    "    def forward(self, x, hidden):\n",
    "        out, hidden = self.lstm(x, hidden)\n",
    "        out = self.fc(out[:, -1, :])  \n",
    "        return out, hidden\n"
   ]
  },
  {
   "cell_type": "markdown",
   "id": "ee6f9113",
   "metadata": {
    "papermill": {
     "duration": 0.003078,
     "end_time": "2025-03-20T03:44:28.163934",
     "exception": false,
     "start_time": "2025-03-20T03:44:28.160856",
     "status": "completed"
    },
    "tags": []
   },
   "source": [
    "**Step 7: Initialize Model & Optimizer**"
   ]
  },
  {
   "cell_type": "code",
   "execution_count": 7,
   "id": "5496b768",
   "metadata": {
    "execution": {
     "iopub.execute_input": "2025-03-20T03:44:28.171261Z",
     "iopub.status.busy": "2025-03-20T03:44:28.171022Z",
     "iopub.status.idle": "2025-03-20T03:44:33.354297Z",
     "shell.execute_reply": "2025-03-20T03:44:33.353464Z"
    },
    "papermill": {
     "duration": 5.188571,
     "end_time": "2025-03-20T03:44:33.355960",
     "exception": false,
     "start_time": "2025-03-20T03:44:28.167389",
     "status": "completed"
    },
    "tags": []
   },
   "outputs": [],
   "source": [
    "# Hyperparameters\n",
    "hidden_size = 512  \n",
    "num_layers = 2  \n",
    "\n",
    "# Model\n",
    "model = PoemRNN(vocab_size, hidden_size, num_layers).cuda()\n",
    "criterion = nn.CrossEntropyLoss()\n",
    "optimizer = optim.Adam(model.parameters(), lr=0.001)\n"
   ]
  },
  {
   "cell_type": "markdown",
   "id": "d35e4ca1",
   "metadata": {
    "papermill": {
     "duration": 0.003111,
     "end_time": "2025-03-20T03:44:33.362998",
     "exception": false,
     "start_time": "2025-03-20T03:44:33.359887",
     "status": "completed"
    },
    "tags": []
   },
   "source": [
    "**Step 8: Train the Model**"
   ]
  },
  {
   "cell_type": "code",
   "execution_count": 8,
   "id": "625acd0b",
   "metadata": {
    "execution": {
     "iopub.execute_input": "2025-03-20T03:44:33.370748Z",
     "iopub.status.busy": "2025-03-20T03:44:33.370311Z",
     "iopub.status.idle": "2025-03-20T04:09:58.685429Z",
     "shell.execute_reply": "2025-03-20T04:09:58.684243Z"
    },
    "papermill": {
     "duration": 1525.32072,
     "end_time": "2025-03-20T04:09:58.687108",
     "exception": false,
     "start_time": "2025-03-20T03:44:33.366388",
     "status": "completed"
    },
    "tags": []
   },
   "outputs": [
    {
     "name": "stdout",
     "output_type": "stream",
     "text": [
      "Epoch 1/200, Loss: 7.2379\n",
      "Epoch 2/200, Loss: 6.6455\n",
      "Epoch 3/200, Loss: 6.2180\n",
      "Epoch 4/200, Loss: 5.6761\n",
      "Epoch 5/200, Loss: 4.9289\n",
      "Epoch 6/200, Loss: 3.9498\n",
      "Epoch 7/200, Loss: 2.8212\n",
      "Epoch 8/200, Loss: 1.7596\n",
      "Epoch 9/200, Loss: 0.9969\n",
      "Epoch 10/200, Loss: 0.5510\n",
      "Epoch 11/200, Loss: 0.2950\n",
      "Epoch 12/200, Loss: 0.1587\n",
      "Epoch 13/200, Loss: 0.0897\n",
      "Epoch 14/200, Loss: 0.0602\n",
      "Epoch 15/200, Loss: 0.0468\n",
      "Epoch 16/200, Loss: 0.0387\n",
      "Epoch 17/200, Loss: 0.0417\n",
      "Epoch 18/200, Loss: 0.0642\n",
      "Epoch 19/200, Loss: 0.0986\n",
      "Epoch 20/200, Loss: 0.0744\n",
      "Epoch 21/200, Loss: 0.0474\n",
      "Epoch 22/200, Loss: 0.0319\n",
      "Epoch 23/200, Loss: 0.0230\n",
      "Epoch 24/200, Loss: 0.0216\n",
      "Epoch 25/200, Loss: 0.0233\n",
      "Epoch 26/200, Loss: 0.0209\n",
      "Epoch 27/200, Loss: 0.0407\n",
      "Epoch 28/200, Loss: 0.1539\n",
      "Epoch 29/200, Loss: 0.0400\n",
      "Epoch 30/200, Loss: 0.0173\n",
      "Epoch 31/200, Loss: 0.0141\n",
      "Epoch 32/200, Loss: 0.0119\n",
      "Epoch 33/200, Loss: 0.0118\n",
      "Epoch 34/200, Loss: 0.0116\n",
      "Epoch 35/200, Loss: 0.0119\n",
      "Epoch 36/200, Loss: 0.0137\n",
      "Epoch 37/200, Loss: 0.0967\n",
      "Epoch 38/200, Loss: 0.0849\n",
      "Epoch 39/200, Loss: 0.0221\n",
      "Epoch 40/200, Loss: 0.0122\n",
      "Epoch 41/200, Loss: 0.0122\n",
      "Epoch 42/200, Loss: 0.0105\n",
      "Epoch 43/200, Loss: 0.0105\n",
      "Epoch 44/200, Loss: 0.0098\n",
      "Epoch 45/200, Loss: 0.0112\n",
      "Epoch 46/200, Loss: 0.0100\n",
      "Epoch 47/200, Loss: 0.0231\n",
      "Epoch 48/200, Loss: 0.1059\n",
      "Epoch 49/200, Loss: 0.0181\n",
      "Epoch 50/200, Loss: 0.0131\n",
      "Epoch 51/200, Loss: 0.0122\n",
      "Epoch 52/200, Loss: 0.0100\n",
      "Epoch 53/200, Loss: 0.0097\n",
      "Epoch 54/200, Loss: 0.0086\n",
      "Epoch 55/200, Loss: 0.0089\n",
      "Epoch 56/200, Loss: 0.0098\n",
      "Epoch 57/200, Loss: 0.0097\n",
      "Epoch 58/200, Loss: 0.0744\n",
      "Epoch 59/200, Loss: 0.0324\n",
      "Epoch 60/200, Loss: 0.0115\n",
      "Epoch 61/200, Loss: 0.0092\n",
      "Epoch 62/200, Loss: 0.0084\n",
      "Epoch 63/200, Loss: 0.0080\n",
      "Epoch 64/200, Loss: 0.0076\n",
      "Epoch 65/200, Loss: 0.0077\n",
      "Epoch 66/200, Loss: 0.0078\n",
      "Epoch 67/200, Loss: 0.0082\n",
      "Epoch 68/200, Loss: 0.0083\n",
      "Epoch 69/200, Loss: 0.0684\n",
      "Epoch 70/200, Loss: 0.0373\n",
      "Epoch 71/200, Loss: 0.0099\n",
      "Epoch 72/200, Loss: 0.0080\n",
      "Epoch 73/200, Loss: 0.0071\n",
      "Epoch 74/200, Loss: 0.0071\n",
      "Epoch 75/200, Loss: 0.0070\n",
      "Epoch 76/200, Loss: 0.0074\n",
      "Epoch 77/200, Loss: 0.0070\n",
      "Epoch 78/200, Loss: 0.0073\n",
      "Epoch 79/200, Loss: 0.0075\n",
      "Epoch 80/200, Loss: 0.0082\n",
      "Epoch 81/200, Loss: 0.0723\n",
      "Epoch 82/200, Loss: 0.0169\n",
      "Epoch 83/200, Loss: 0.0078\n",
      "Epoch 84/200, Loss: 0.0068\n",
      "Epoch 85/200, Loss: 0.0069\n",
      "Epoch 86/200, Loss: 0.0070\n",
      "Epoch 87/200, Loss: 0.0068\n",
      "Epoch 88/200, Loss: 0.0065\n",
      "Epoch 89/200, Loss: 0.0067\n",
      "Epoch 90/200, Loss: 0.0064\n",
      "Epoch 91/200, Loss: 0.0068\n",
      "Epoch 92/200, Loss: 0.0071\n",
      "Epoch 93/200, Loss: 0.0625\n",
      "Epoch 94/200, Loss: 0.0178\n",
      "Epoch 95/200, Loss: 0.0094\n",
      "Epoch 96/200, Loss: 0.0071\n",
      "Epoch 97/200, Loss: 0.0062\n",
      "Epoch 98/200, Loss: 0.0059\n",
      "Epoch 99/200, Loss: 0.0062\n",
      "Epoch 100/200, Loss: 0.0061\n",
      "Epoch 101/200, Loss: 0.0062\n",
      "Epoch 102/200, Loss: 0.0064\n",
      "Epoch 103/200, Loss: 0.0066\n",
      "Epoch 104/200, Loss: 0.0065\n",
      "Epoch 105/200, Loss: 0.0063\n",
      "Epoch 106/200, Loss: 0.0063\n",
      "Epoch 107/200, Loss: 0.0203\n",
      "Epoch 108/200, Loss: 0.0452\n",
      "Epoch 109/200, Loss: 0.0109\n",
      "Epoch 110/200, Loss: 0.0064\n",
      "Epoch 111/200, Loss: 0.0057\n",
      "Epoch 112/200, Loss: 0.0055\n",
      "Epoch 113/200, Loss: 0.0058\n",
      "Epoch 114/200, Loss: 0.0058\n",
      "Epoch 115/200, Loss: 0.0057\n",
      "Epoch 116/200, Loss: 0.0059\n",
      "Epoch 117/200, Loss: 0.0059\n",
      "Epoch 118/200, Loss: 0.0059\n",
      "Epoch 119/200, Loss: 0.0060\n",
      "Epoch 120/200, Loss: 0.0059\n",
      "Epoch 121/200, Loss: 0.0062\n",
      "Epoch 122/200, Loss: 0.0194\n",
      "Epoch 123/200, Loss: 0.0420\n",
      "Epoch 124/200, Loss: 0.0092\n",
      "Epoch 125/200, Loss: 0.0075\n",
      "Epoch 126/200, Loss: 0.0062\n",
      "Epoch 127/200, Loss: 0.0058\n",
      "Epoch 128/200, Loss: 0.0055\n",
      "Epoch 129/200, Loss: 0.0054\n",
      "Epoch 130/200, Loss: 0.0053\n",
      "Epoch 131/200, Loss: 0.0054\n",
      "Epoch 132/200, Loss: 0.0054\n",
      "Epoch 133/200, Loss: 0.0054\n",
      "Epoch 134/200, Loss: 0.0053\n",
      "Epoch 135/200, Loss: 0.0057\n",
      "Epoch 136/200, Loss: 0.0057\n",
      "Epoch 137/200, Loss: 0.0056\n",
      "Epoch 138/200, Loss: 0.0243\n",
      "Epoch 139/200, Loss: 0.0252\n",
      "Epoch 140/200, Loss: 0.0072\n",
      "Epoch 141/200, Loss: 0.0059\n",
      "Epoch 142/200, Loss: 0.0054\n",
      "Epoch 143/200, Loss: 0.0051\n",
      "Epoch 144/200, Loss: 0.0052\n",
      "Epoch 145/200, Loss: 0.0052\n",
      "Epoch 146/200, Loss: 0.0050\n",
      "Epoch 147/200, Loss: 0.0051\n",
      "Epoch 148/200, Loss: 0.0052\n",
      "Epoch 149/200, Loss: 0.0052\n",
      "Epoch 150/200, Loss: 0.0052\n",
      "Epoch 151/200, Loss: 0.0051\n",
      "Epoch 152/200, Loss: 0.0052\n",
      "Epoch 153/200, Loss: 0.0054\n",
      "Epoch 154/200, Loss: 0.0056\n",
      "Epoch 155/200, Loss: 0.0110\n",
      "Epoch 156/200, Loss: 0.0335\n",
      "Epoch 157/200, Loss: 0.0094\n",
      "Epoch 158/200, Loss: 0.0068\n",
      "Epoch 159/200, Loss: 0.0049\n",
      "Epoch 160/200, Loss: 0.0049\n",
      "Epoch 161/200, Loss: 0.0047\n",
      "Epoch 162/200, Loss: 0.0049\n",
      "Epoch 163/200, Loss: 0.0049\n",
      "Epoch 164/200, Loss: 0.0048\n",
      "Epoch 165/200, Loss: 0.0049\n",
      "Epoch 166/200, Loss: 0.0048\n",
      "Epoch 167/200, Loss: 0.0048\n",
      "Epoch 168/200, Loss: 0.0048\n",
      "Epoch 169/200, Loss: 0.0048\n",
      "Epoch 170/200, Loss: 0.0049\n",
      "Epoch 171/200, Loss: 0.0049\n",
      "Epoch 172/200, Loss: 0.0050\n",
      "Epoch 173/200, Loss: 0.0211\n",
      "Epoch 174/200, Loss: 0.0257\n",
      "Epoch 175/200, Loss: 0.0063\n",
      "Epoch 176/200, Loss: 0.0050\n",
      "Epoch 177/200, Loss: 0.0047\n",
      "Epoch 178/200, Loss: 0.0046\n",
      "Epoch 179/200, Loss: 0.0046\n",
      "Epoch 180/200, Loss: 0.0047\n",
      "Epoch 181/200, Loss: 0.0046\n",
      "Epoch 182/200, Loss: 0.0047\n",
      "Epoch 183/200, Loss: 0.0047\n",
      "Epoch 184/200, Loss: 0.0046\n",
      "Epoch 185/200, Loss: 0.0047\n",
      "Epoch 186/200, Loss: 0.0046\n",
      "Epoch 187/200, Loss: 0.0047\n",
      "Epoch 188/200, Loss: 0.0047\n",
      "Epoch 189/200, Loss: 0.0047\n",
      "Epoch 190/200, Loss: 0.0050\n",
      "Epoch 191/200, Loss: 0.0325\n",
      "Epoch 192/200, Loss: 0.0076\n",
      "Epoch 193/200, Loss: 0.0049\n",
      "Epoch 194/200, Loss: 0.0046\n",
      "Epoch 195/200, Loss: 0.0045\n",
      "Epoch 196/200, Loss: 0.0046\n",
      "Epoch 197/200, Loss: 0.0046\n",
      "Epoch 198/200, Loss: 0.0045\n",
      "Epoch 199/200, Loss: 0.0045\n",
      "Epoch 200/200, Loss: 0.0045\n",
      "Training complete. Model saved as 'poem_rnn_onehot.pth'.\n"
     ]
    }
   ],
   "source": [
    "num_epochs = 200  \n",
    "\n",
    "for epoch in range(num_epochs):\n",
    "    model.train()\n",
    "    epoch_loss = 0\n",
    "\n",
    "    for inputs, targets in dataloader:\n",
    "        inputs, targets = inputs.cuda(), targets.cuda()\n",
    "\n",
    "        hidden = (\n",
    "            torch.zeros(num_layers, inputs.size(0), hidden_size).cuda(),\n",
    "            torch.zeros(num_layers, inputs.size(0), hidden_size).cuda(),\n",
    "        )\n",
    "\n",
    "        optimizer.zero_grad()\n",
    "        outputs, hidden = model(inputs, hidden)\n",
    "        loss = criterion(outputs, targets)\n",
    "        loss.backward()\n",
    "        optimizer.step()\n",
    "\n",
    "        epoch_loss += loss.item()\n",
    "\n",
    "    avg_loss = epoch_loss / len(dataloader)\n",
    "    print(f\"Epoch {epoch+1}/{num_epochs}, Loss: {avg_loss:.4f}\")\n",
    "\n",
    "torch.save(model.state_dict(), \"poem_rnn_onehot.pth\")\n",
    "print(\"Training complete. Model saved as 'poem_rnn_onehot.pth'.\")\n"
   ]
  },
  {
   "cell_type": "markdown",
   "id": "84eb5052",
   "metadata": {
    "papermill": {
     "duration": 0.01319,
     "end_time": "2025-03-20T04:09:58.714214",
     "exception": false,
     "start_time": "2025-03-20T04:09:58.701024",
     "status": "completed"
    },
    "tags": []
   },
   "source": [
    "**Step 9: Generate Poem**"
   ]
  },
  {
   "cell_type": "code",
   "execution_count": 9,
   "id": "ecf4fb3d",
   "metadata": {
    "execution": {
     "iopub.execute_input": "2025-03-20T04:09:58.741643Z",
     "iopub.status.busy": "2025-03-20T04:09:58.741286Z",
     "iopub.status.idle": "2025-03-20T04:09:58.748335Z",
     "shell.execute_reply": "2025-03-20T04:09:58.747623Z"
    },
    "papermill": {
     "duration": 0.022247,
     "end_time": "2025-03-20T04:09:58.749753",
     "exception": false,
     "start_time": "2025-03-20T04:09:58.727506",
     "status": "completed"
    },
    "tags": []
   },
   "outputs": [],
   "source": [
    "def generate_poem(start_words, length=100, temperature=0.8, top_k=5):\n",
    "    model.eval()\n",
    "    current_words = start_words\n",
    "    result = [word.capitalize() for word in current_words]\n",
    "\n",
    "    batch_size = 1\n",
    "    hidden = (\n",
    "        torch.zeros(num_layers, batch_size, hidden_size).cuda(),\n",
    "        torch.zeros(num_layers, batch_size, hidden_size).cuda(),\n",
    "    )\n",
    "\n",
    "    for _ in range(length - len(start_words)):  \n",
    "        input_idx = [[word_vocab.get(current_words[-1], 0)]]\n",
    "        one_hot_input = one_hot_encode(input_idx, vocab_size).cuda()\n",
    "\n",
    "        output, hidden = model(one_hot_input, hidden)\n",
    "\n",
    "        output = output / temperature\n",
    "        probabilities = F.softmax(output, dim=1).squeeze()\n",
    "        top_k_values, top_k_indices = torch.topk(probabilities, top_k)\n",
    "\n",
    "        best_word_idx = top_k_indices[random.randint(0, len(top_k_indices) - 1)]\n",
    "        next_word = vocab_reverse.get(best_word_idx.item(), \"<UNK>\")\n",
    "\n",
    "        if next_word in [\"<PAD>\", \"<UNK>\"]:\n",
    "            break\n",
    "\n",
    "        result.append(next_word)\n",
    "        current_words.append(next_word)\n",
    "\n",
    "        # Add line breaks\n",
    "        if len(result) % 8 == 0:\n",
    "            result.append(\"\\n\")  \n",
    "\n",
    "    poem = \" \".join(result)\n",
    "    poem = re.sub(r\"\\s+([.,!?])\", r\"\\1\", poem)  \n",
    "    poem = re.sub(r\"\\n\\s*\", \"\\n\", poem)  \n",
    "    return poem\n"
   ]
  },
  {
   "cell_type": "markdown",
   "id": "aae958b6",
   "metadata": {
    "papermill": {
     "duration": 0.012869,
     "end_time": "2025-03-20T04:09:58.775777",
     "exception": false,
     "start_time": "2025-03-20T04:09:58.762908",
     "status": "completed"
    },
    "tags": []
   },
   "source": [
    "**Step 10: Generate & Display Poem**"
   ]
  },
  {
   "cell_type": "code",
   "execution_count": 10,
   "id": "84d0ee8c",
   "metadata": {
    "execution": {
     "iopub.execute_input": "2025-03-20T04:09:58.802217Z",
     "iopub.status.busy": "2025-03-20T04:09:58.801883Z",
     "iopub.status.idle": "2025-03-20T04:09:59.249141Z",
     "shell.execute_reply": "2025-03-20T04:09:59.247938Z"
    },
    "papermill": {
     "duration": 0.462893,
     "end_time": "2025-03-20T04:09:59.251101",
     "exception": false,
     "start_time": "2025-03-20T04:09:58.788208",
     "status": "completed"
    },
    "tags": []
   },
   "outputs": [
    {
     "name": "stdout",
     "output_type": "stream",
     "text": [
      "Generated Poem:\n",
      " She Married myriads nothing, are, that and me \n",
      "moment moment the vain being eyes beauty, \n",
      "let hasten as think same. indescribable who \n",
      "what what have just good ten young \n",
      "tell listen, id lost lives have may \n",
      "lives but fast flaw, ruind let work \n",
      "me, me, we i so know i \n",
      "\n"
     ]
    }
   ],
   "source": [
    "start_words = [\"she\", \"married\"]\n",
    "poem = generate_poem(start_words, length=50, temperature=0.8, top_k=5)\n",
    "\n",
    "print(\"Generated Poem:\\n\", poem)\n"
   ]
  }
 ],
 "metadata": {
  "kaggle": {
   "accelerator": "nvidiaTeslaT4",
   "dataSources": [
    {
     "datasetId": 2312897,
     "sourceId": 3893022,
     "sourceType": "datasetVersion"
    }
   ],
   "dockerImageVersionId": 30919,
   "isGpuEnabled": true,
   "isInternetEnabled": true,
   "language": "python",
   "sourceType": "notebook"
  },
  "kernelspec": {
   "display_name": "Python 3",
   "language": "python",
   "name": "python3"
  },
  "language_info": {
   "codemirror_mode": {
    "name": "ipython",
    "version": 3
   },
   "file_extension": ".py",
   "mimetype": "text/x-python",
   "name": "python",
   "nbconvert_exporter": "python",
   "pygments_lexer": "ipython3",
   "version": "3.10.12"
  },
  "papermill": {
   "default_parameters": {},
   "duration": 1547.002437,
   "end_time": "2025-03-20T04:10:02.559318",
   "environment_variables": {},
   "exception": null,
   "input_path": "__notebook__.ipynb",
   "output_path": "__notebook__.ipynb",
   "parameters": {},
   "start_time": "2025-03-20T03:44:15.556881",
   "version": "2.6.0"
  }
 },
 "nbformat": 4,
 "nbformat_minor": 5
}
