{
 "cells": [
  {
   "cell_type": "markdown",
   "id": "133d3150",
   "metadata": {
    "papermill": {
     "duration": 0.00519,
     "end_time": "2025-03-19T12:47:22.059170",
     "exception": false,
     "start_time": "2025-03-19T12:47:22.053980",
     "status": "completed"
    },
    "tags": []
   },
   "source": [
    "**Step 1: Import Libraries**"
   ]
  },
  {
   "cell_type": "code",
   "execution_count": 1,
   "id": "77912c4d",
   "metadata": {
    "_cell_guid": "b1076dfc-b9ad-4769-8c92-a6c4dae69d19",
    "_uuid": "8f2839f25d086af736a60e9eeb907d3b93b6e0e5",
    "execution": {
     "iopub.execute_input": "2025-03-19T12:47:22.066331Z",
     "iopub.status.busy": "2025-03-19T12:47:22.066089Z",
     "iopub.status.idle": "2025-03-19T12:47:26.025189Z",
     "shell.execute_reply": "2025-03-19T12:47:26.024517Z"
    },
    "papermill": {
     "duration": 3.964231,
     "end_time": "2025-03-19T12:47:26.026742",
     "exception": false,
     "start_time": "2025-03-19T12:47:22.062511",
     "status": "completed"
    },
    "tags": []
   },
   "outputs": [],
   "source": [
    "import torch\n",
    "import torch.nn as nn\n",
    "import torch.nn.functional as F\n",
    "import torch.optim as optim\n",
    "import random\n",
    "import re\n",
    "import pandas as pd\n",
    "from torch.utils.data import Dataset, DataLoader\n"
   ]
  },
  {
   "cell_type": "markdown",
   "id": "5562e406",
   "metadata": {
    "papermill": {
     "duration": 0.002997,
     "end_time": "2025-03-19T12:47:26.033341",
     "exception": false,
     "start_time": "2025-03-19T12:47:26.030344",
     "status": "completed"
    },
    "tags": []
   },
   "source": [
    "**Step 2:  Define the RNN Model**"
   ]
  },
  {
   "cell_type": "code",
   "execution_count": 2,
   "id": "a43a9407",
   "metadata": {
    "execution": {
     "iopub.execute_input": "2025-03-19T12:47:26.040457Z",
     "iopub.status.busy": "2025-03-19T12:47:26.040022Z",
     "iopub.status.idle": "2025-03-19T12:47:26.044901Z",
     "shell.execute_reply": "2025-03-19T12:47:26.044104Z"
    },
    "papermill": {
     "duration": 0.009661,
     "end_time": "2025-03-19T12:47:26.046090",
     "exception": false,
     "start_time": "2025-03-19T12:47:26.036429",
     "status": "completed"
    },
    "tags": []
   },
   "outputs": [],
   "source": [
    "class PoemRNN(nn.Module):\n",
    "    def __init__(self, vocab_size, embed_size, hidden_size, num_layers):\n",
    "        super(PoemRNN, self).__init__()\n",
    "        self.embedding = nn.Embedding(vocab_size, embed_size)\n",
    "        self.lstm = nn.LSTM(embed_size, hidden_size, num_layers, batch_first=True)\n",
    "        self.fc = nn.Linear(hidden_size, vocab_size)\n",
    "\n",
    "    def forward(self, x, hidden):\n",
    "        x = self.embedding(x)\n",
    "        out, hidden = self.lstm(x, hidden)\n",
    "        out = self.fc(out[:, -1, :])  \n",
    "        return out, hidden\n"
   ]
  },
  {
   "cell_type": "markdown",
   "id": "f73604b7",
   "metadata": {
    "papermill": {
     "duration": 0.002865,
     "end_time": "2025-03-19T12:47:26.052106",
     "exception": false,
     "start_time": "2025-03-19T12:47:26.049241",
     "status": "completed"
    },
    "tags": []
   },
   "source": [
    "**Step 3: Load and Preprocess Dataset**"
   ]
  },
  {
   "cell_type": "code",
   "execution_count": 3,
   "id": "58c75ed2",
   "metadata": {
    "execution": {
     "iopub.execute_input": "2025-03-19T12:47:26.058930Z",
     "iopub.status.busy": "2025-03-19T12:47:26.058712Z",
     "iopub.status.idle": "2025-03-19T12:47:26.096953Z",
     "shell.execute_reply": "2025-03-19T12:47:26.095974Z"
    },
    "papermill": {
     "duration": 0.043234,
     "end_time": "2025-03-19T12:47:26.098370",
     "exception": false,
     "start_time": "2025-03-19T12:47:26.055136",
     "status": "completed"
    },
    "tags": []
   },
   "outputs": [
    {
     "name": "stdout",
     "output_type": "stream",
     "text": [
      "Column names in the dataset: Index(['text'], dtype='object')\n",
      "                                                text  \\\n",
      "0  O my Luve's like a red, red rose\\nThat’s newly...   \n",
      "1  The rose is red,\\nThe violet's blue,\\nSugar is...   \n",
      "2  How do I love thee? Let me count the ways.\\nI ...   \n",
      "3  Had I the heavens' embroidered cloths,\\nEnwrou...   \n",
      "4  I.\\n    Enough! we're tired, my heart and I.\\n...   \n",
      "\n",
      "                                              tokens  \n",
      "0  [o, my, luves, like, a, red,, red, rose, thats...  \n",
      "1  [the, rose, is, red,, the, violets, blue,, sug...  \n",
      "2  [how, do, i, love, thee?, let, me, count, the,...  \n",
      "3  [had, i, the, heavens, embroidered, cloths,, e...  \n",
      "4  [i., enough!, were, tired,, my, heart, and, i....  \n"
     ]
    }
   ],
   "source": [
    "# Load the dataset\n",
    "dataset_path = \"/kaggle/input/poems/poems-100.csv\"\n",
    "df = pd.read_csv(dataset_path)\n",
    "\n",
    "# Check column names\n",
    "print(\"Column names in the dataset:\", df.columns)\n",
    "\n",
    "# Preprocess text (tokenization, lowercasing, etc.)\n",
    "def preprocess_text(text):\n",
    "    text = text.lower()\n",
    "    text = re.sub(r\"[^a-zA-Z0-9\\s.,!?]\", \"\", text)  # Keep basic punctuation\n",
    "    return text.split()\n",
    "\n",
    "# Ensure correct column name\n",
    "correct_column_name = \"text\"  # Replace with actual column name from df.columns\n",
    "df[\"tokens\"] = df[correct_column_name].apply(preprocess_text)\n",
    "\n",
    "# Display the first few rows with tokens\n",
    "print(df.head())\n"
   ]
  },
  {
   "cell_type": "markdown",
   "id": "c36478d2",
   "metadata": {
    "papermill": {
     "duration": 0.003287,
     "end_time": "2025-03-19T12:47:26.105252",
     "exception": false,
     "start_time": "2025-03-19T12:47:26.101965",
     "status": "completed"
    },
    "tags": []
   },
   "source": [
    "**Step 4: Prepare Vocabulary**"
   ]
  },
  {
   "cell_type": "code",
   "execution_count": 4,
   "id": "babe2d41",
   "metadata": {
    "execution": {
     "iopub.execute_input": "2025-03-19T12:47:26.112196Z",
     "iopub.status.busy": "2025-03-19T12:47:26.111939Z",
     "iopub.status.idle": "2025-03-19T12:47:26.121172Z",
     "shell.execute_reply": "2025-03-19T12:47:26.120387Z"
    },
    "papermill": {
     "duration": 0.013874,
     "end_time": "2025-03-19T12:47:26.122266",
     "exception": false,
     "start_time": "2025-03-19T12:47:26.108392",
     "status": "completed"
    },
    "tags": []
   },
   "outputs": [
    {
     "name": "stdout",
     "output_type": "stream",
     "text": [
      "Vocabulary size: 6725\n"
     ]
    }
   ],
   "source": [
    "# Create vocabulary\n",
    "all_words = [word for tokens in df[\"tokens\"] for word in tokens]\n",
    "unique_words = list(set(all_words))\n",
    "word_vocab = {word: idx for idx, word in enumerate(unique_words)}\n",
    "vocab_reverse = {idx: word for word, idx in word_vocab.items()}\n",
    "\n",
    "# Vocabulary size\n",
    "vocab_size = len(word_vocab)\n",
    "print(f\"Vocabulary size: {vocab_size}\")\n",
    "\n",
    "# Hyperparameters\n",
    "embed_size = 256  \n",
    "hidden_size = 512  \n",
    "num_layers = 2  \n"
   ]
  },
  {
   "cell_type": "markdown",
   "id": "61f55087",
   "metadata": {
    "papermill": {
     "duration": 0.003278,
     "end_time": "2025-03-19T12:47:26.128899",
     "exception": false,
     "start_time": "2025-03-19T12:47:26.125621",
     "status": "completed"
    },
    "tags": []
   },
   "source": [
    "**Step 5: Convert Dataset into Input-Target Sequences**"
   ]
  },
  {
   "cell_type": "code",
   "execution_count": 5,
   "id": "3e91b975",
   "metadata": {
    "execution": {
     "iopub.execute_input": "2025-03-19T12:47:26.136282Z",
     "iopub.status.busy": "2025-03-19T12:47:26.136006Z",
     "iopub.status.idle": "2025-03-19T12:47:26.192129Z",
     "shell.execute_reply": "2025-03-19T12:47:26.191345Z"
    },
    "papermill": {
     "duration": 0.061211,
     "end_time": "2025-03-19T12:47:26.193437",
     "exception": false,
     "start_time": "2025-03-19T12:47:26.132226",
     "status": "completed"
    },
    "tags": []
   },
   "outputs": [],
   "source": [
    "sequence_length = 5  \n",
    "\n",
    "def create_sequences(tokens, seq_length):\n",
    "    input_seqs, target_seqs = [], []\n",
    "    for i in range(len(tokens) - seq_length):\n",
    "        input_seqs.append([word_vocab[t] for t in tokens[i:i+seq_length]])\n",
    "        target_seqs.append(word_vocab[tokens[i+seq_length]])\n",
    "    return input_seqs, target_seqs\n",
    "\n",
    "input_seqs, target_seqs = [], []\n",
    "for tokens in df[\"tokens\"]:\n",
    "    inp, tgt = create_sequences(tokens, sequence_length)\n",
    "    input_seqs.extend(inp)\n",
    "    target_seqs.extend(tgt)\n",
    "\n",
    "# Convert to PyTorch tensors\n",
    "input_seqs = torch.tensor(input_seqs, dtype=torch.long)\n",
    "target_seqs = torch.tensor(target_seqs, dtype=torch.long)\n"
   ]
  },
  {
   "cell_type": "markdown",
   "id": "4151ebc1",
   "metadata": {
    "papermill": {
     "duration": 0.002982,
     "end_time": "2025-03-19T12:47:26.199643",
     "exception": false,
     "start_time": "2025-03-19T12:47:26.196661",
     "status": "completed"
    },
    "tags": []
   },
   "source": [
    "**Step 6: Define Dataset & DataLoader**"
   ]
  },
  {
   "cell_type": "code",
   "execution_count": 6,
   "id": "660ad795",
   "metadata": {
    "execution": {
     "iopub.execute_input": "2025-03-19T12:47:26.206615Z",
     "iopub.status.busy": "2025-03-19T12:47:26.206392Z",
     "iopub.status.idle": "2025-03-19T12:47:26.212126Z",
     "shell.execute_reply": "2025-03-19T12:47:26.211331Z"
    },
    "papermill": {
     "duration": 0.01068,
     "end_time": "2025-03-19T12:47:26.213487",
     "exception": false,
     "start_time": "2025-03-19T12:47:26.202807",
     "status": "completed"
    },
    "tags": []
   },
   "outputs": [],
   "source": [
    "class PoemDataset(Dataset):\n",
    "    def __init__(self, inputs, targets):\n",
    "        self.inputs = inputs\n",
    "        self.targets = targets\n",
    "\n",
    "    def __len__(self):\n",
    "        return len(self.inputs)\n",
    "\n",
    "    def __getitem__(self, idx):\n",
    "        return self.inputs[idx], self.targets[idx]\n",
    "\n",
    "batch_size = 64\n",
    "dataset = PoemDataset(input_seqs, target_seqs)\n",
    "dataloader = DataLoader(dataset, batch_size=batch_size, shuffle=True)\n"
   ]
  },
  {
   "cell_type": "markdown",
   "id": "7a73f8bf",
   "metadata": {
    "papermill": {
     "duration": 0.003309,
     "end_time": "2025-03-19T12:47:26.220132",
     "exception": false,
     "start_time": "2025-03-19T12:47:26.216823",
     "status": "completed"
    },
    "tags": []
   },
   "source": [
    "**Step 7: Initialize Model & Optimizer**"
   ]
  },
  {
   "cell_type": "code",
   "execution_count": 7,
   "id": "48841004",
   "metadata": {
    "execution": {
     "iopub.execute_input": "2025-03-19T12:47:26.227244Z",
     "iopub.status.busy": "2025-03-19T12:47:26.226972Z",
     "iopub.status.idle": "2025-03-19T12:47:30.090937Z",
     "shell.execute_reply": "2025-03-19T12:47:30.090302Z"
    },
    "papermill": {
     "duration": 3.869163,
     "end_time": "2025-03-19T12:47:30.092487",
     "exception": false,
     "start_time": "2025-03-19T12:47:26.223324",
     "status": "completed"
    },
    "tags": []
   },
   "outputs": [],
   "source": [
    "model = PoemRNN(vocab_size, embed_size, hidden_size, num_layers)\n",
    "model.cuda()\n",
    "\n",
    "criterion = nn.CrossEntropyLoss()\n",
    "optimizer = optim.Adam(model.parameters(), lr=0.001)\n"
   ]
  },
  {
   "cell_type": "markdown",
   "id": "d1bb0a11",
   "metadata": {
    "papermill": {
     "duration": 0.003162,
     "end_time": "2025-03-19T12:47:30.099332",
     "exception": false,
     "start_time": "2025-03-19T12:47:30.096170",
     "status": "completed"
    },
    "tags": []
   },
   "source": [
    "**Step 8: Training Loop**"
   ]
  },
  {
   "cell_type": "code",
   "execution_count": 8,
   "id": "b9877e9f",
   "metadata": {
    "execution": {
     "iopub.execute_input": "2025-03-19T12:47:30.106879Z",
     "iopub.status.busy": "2025-03-19T12:47:30.106553Z",
     "iopub.status.idle": "2025-03-19T12:56:13.737917Z",
     "shell.execute_reply": "2025-03-19T12:56:13.736790Z"
    },
    "papermill": {
     "duration": 523.63669,
     "end_time": "2025-03-19T12:56:13.739346",
     "exception": false,
     "start_time": "2025-03-19T12:47:30.102656",
     "status": "completed"
    },
    "tags": []
   },
   "outputs": [
    {
     "name": "stdout",
     "output_type": "stream",
     "text": [
      "Epoch 1/200, Loss: 7.1256\n",
      "Epoch 2/200, Loss: 6.4712\n",
      "Epoch 3/200, Loss: 5.9175\n",
      "Epoch 4/200, Loss: 5.0131\n",
      "Epoch 5/200, Loss: 3.6924\n",
      "Epoch 6/200, Loss: 2.1624\n",
      "Epoch 7/200, Loss: 0.9200\n",
      "Epoch 8/200, Loss: 0.2853\n",
      "Epoch 9/200, Loss: 0.0872\n",
      "Epoch 10/200, Loss: 0.0448\n",
      "Epoch 11/200, Loss: 0.0308\n",
      "Epoch 12/200, Loss: 0.0239\n",
      "Epoch 13/200, Loss: 0.0206\n",
      "Epoch 14/200, Loss: 0.0195\n",
      "Epoch 15/200, Loss: 0.0185\n",
      "Epoch 16/200, Loss: 0.0172\n",
      "Epoch 17/200, Loss: 0.1359\n",
      "Epoch 18/200, Loss: 0.6042\n",
      "Epoch 19/200, Loss: 0.0530\n",
      "Epoch 20/200, Loss: 0.0183\n",
      "Epoch 21/200, Loss: 0.0138\n",
      "Epoch 22/200, Loss: 0.0116\n",
      "Epoch 23/200, Loss: 0.0114\n",
      "Epoch 24/200, Loss: 0.0116\n",
      "Epoch 25/200, Loss: 0.0108\n",
      "Epoch 26/200, Loss: 0.0112\n",
      "Epoch 27/200, Loss: 0.0116\n",
      "Epoch 28/200, Loss: 0.0110\n",
      "Epoch 29/200, Loss: 0.0113\n",
      "Epoch 30/200, Loss: 0.0121\n",
      "Epoch 31/200, Loss: 0.3204\n",
      "Epoch 32/200, Loss: 0.2512\n",
      "Epoch 33/200, Loss: 0.0247\n",
      "Epoch 34/200, Loss: 0.0118\n",
      "Epoch 35/200, Loss: 0.0109\n",
      "Epoch 36/200, Loss: 0.0093\n",
      "Epoch 37/200, Loss: 0.0094\n",
      "Epoch 38/200, Loss: 0.0091\n",
      "Epoch 39/200, Loss: 0.0087\n",
      "Epoch 40/200, Loss: 0.0095\n",
      "Epoch 41/200, Loss: 0.0088\n",
      "Epoch 42/200, Loss: 0.0090\n",
      "Epoch 43/200, Loss: 0.0093\n",
      "Epoch 44/200, Loss: 0.0087\n",
      "Epoch 45/200, Loss: 0.0098\n",
      "Epoch 46/200, Loss: 0.0194\n",
      "Epoch 47/200, Loss: 0.4595\n",
      "Epoch 48/200, Loss: 0.0604\n",
      "Epoch 49/200, Loss: 0.0132\n",
      "Epoch 50/200, Loss: 0.0103\n",
      "Epoch 51/200, Loss: 0.0089\n",
      "Epoch 52/200, Loss: 0.0085\n",
      "Epoch 53/200, Loss: 0.0084\n",
      "Epoch 54/200, Loss: 0.0080\n",
      "Epoch 55/200, Loss: 0.0083\n",
      "Epoch 56/200, Loss: 0.0081\n",
      "Epoch 57/200, Loss: 0.0082\n",
      "Epoch 58/200, Loss: 0.0079\n",
      "Epoch 59/200, Loss: 0.0082\n",
      "Epoch 60/200, Loss: 0.0095\n",
      "Epoch 61/200, Loss: 0.1106\n",
      "Epoch 62/200, Loss: 0.2352\n",
      "Epoch 63/200, Loss: 0.0280\n",
      "Epoch 64/200, Loss: 0.0102\n",
      "Epoch 65/200, Loss: 0.0086\n",
      "Epoch 66/200, Loss: 0.0084\n",
      "Epoch 67/200, Loss: 0.0082\n",
      "Epoch 68/200, Loss: 0.0077\n",
      "Epoch 69/200, Loss: 0.0079\n",
      "Epoch 70/200, Loss: 0.0077\n",
      "Epoch 71/200, Loss: 0.0081\n",
      "Epoch 72/200, Loss: 0.0079\n",
      "Epoch 73/200, Loss: 0.0078\n",
      "Epoch 74/200, Loss: 0.0076\n",
      "Epoch 75/200, Loss: 0.0073\n",
      "Epoch 76/200, Loss: 0.0075\n",
      "Epoch 77/200, Loss: 0.0078\n",
      "Epoch 78/200, Loss: 0.0075\n",
      "Epoch 79/200, Loss: 0.0078\n",
      "Epoch 80/200, Loss: 0.0324\n",
      "Epoch 81/200, Loss: 0.4933\n",
      "Epoch 82/200, Loss: 0.0435\n",
      "Epoch 83/200, Loss: 0.0106\n",
      "Epoch 84/200, Loss: 0.0082\n",
      "Epoch 85/200, Loss: 0.0079\n",
      "Epoch 86/200, Loss: 0.0075\n",
      "Epoch 87/200, Loss: 0.0077\n",
      "Epoch 88/200, Loss: 0.0074\n",
      "Epoch 89/200, Loss: 0.0071\n",
      "Epoch 90/200, Loss: 0.0068\n",
      "Epoch 91/200, Loss: 0.0071\n",
      "Epoch 92/200, Loss: 0.0072\n",
      "Epoch 93/200, Loss: 0.0072\n",
      "Epoch 94/200, Loss: 0.0070\n",
      "Epoch 95/200, Loss: 0.0068\n",
      "Epoch 96/200, Loss: 0.0069\n",
      "Epoch 97/200, Loss: 0.0075\n",
      "Epoch 98/200, Loss: 0.0076\n",
      "Epoch 99/200, Loss: 0.1164\n",
      "Epoch 100/200, Loss: 0.2521\n",
      "Epoch 101/200, Loss: 0.0261\n",
      "Epoch 102/200, Loss: 0.0085\n",
      "Epoch 103/200, Loss: 0.0077\n",
      "Epoch 104/200, Loss: 0.0073\n",
      "Epoch 105/200, Loss: 0.0072\n",
      "Epoch 106/200, Loss: 0.0070\n",
      "Epoch 107/200, Loss: 0.0067\n",
      "Epoch 108/200, Loss: 0.0068\n",
      "Epoch 109/200, Loss: 0.0068\n",
      "Epoch 110/200, Loss: 0.0067\n",
      "Epoch 111/200, Loss: 0.0066\n",
      "Epoch 112/200, Loss: 0.0067\n",
      "Epoch 113/200, Loss: 0.0065\n",
      "Epoch 114/200, Loss: 0.0068\n",
      "Epoch 115/200, Loss: 0.0066\n",
      "Epoch 116/200, Loss: 0.0068\n",
      "Epoch 117/200, Loss: 0.0085\n",
      "Epoch 118/200, Loss: 0.2477\n",
      "Epoch 119/200, Loss: 0.1433\n",
      "Epoch 120/200, Loss: 0.0150\n",
      "Epoch 121/200, Loss: 0.0077\n",
      "Epoch 122/200, Loss: 0.0073\n",
      "Epoch 123/200, Loss: 0.0069\n",
      "Epoch 124/200, Loss: 0.0066\n",
      "Epoch 125/200, Loss: 0.0066\n",
      "Epoch 126/200, Loss: 0.0067\n",
      "Epoch 127/200, Loss: 0.0065\n",
      "Epoch 128/200, Loss: 0.0067\n",
      "Epoch 129/200, Loss: 0.0064\n",
      "Epoch 130/200, Loss: 0.0066\n",
      "Epoch 131/200, Loss: 0.0062\n",
      "Epoch 132/200, Loss: 0.0067\n",
      "Epoch 133/200, Loss: 0.0065\n",
      "Epoch 134/200, Loss: 0.0064\n",
      "Epoch 135/200, Loss: 0.0063\n",
      "Epoch 136/200, Loss: 0.0065\n",
      "Epoch 137/200, Loss: 0.0069\n",
      "Epoch 138/200, Loss: 0.0067\n",
      "Epoch 139/200, Loss: 0.0071\n",
      "Epoch 140/200, Loss: 0.0073\n",
      "Epoch 141/200, Loss: 0.1015\n",
      "Epoch 142/200, Loss: 0.3821\n",
      "Epoch 143/200, Loss: 0.0320\n",
      "Epoch 144/200, Loss: 0.0085\n",
      "Epoch 145/200, Loss: 0.0070\n",
      "Epoch 146/200, Loss: 0.0068\n",
      "Epoch 147/200, Loss: 0.0066\n",
      "Epoch 148/200, Loss: 0.0066\n",
      "Epoch 149/200, Loss: 0.0064\n",
      "Epoch 150/200, Loss: 0.0064\n",
      "Epoch 151/200, Loss: 0.0063\n",
      "Epoch 152/200, Loss: 0.0064\n",
      "Epoch 153/200, Loss: 0.0062\n",
      "Epoch 154/200, Loss: 0.0061\n",
      "Epoch 155/200, Loss: 0.0062\n",
      "Epoch 156/200, Loss: 0.0061\n",
      "Epoch 157/200, Loss: 0.0061\n",
      "Epoch 158/200, Loss: 0.0061\n",
      "Epoch 159/200, Loss: 0.0067\n",
      "Epoch 160/200, Loss: 0.0597\n",
      "Epoch 161/200, Loss: 0.2602\n",
      "Epoch 162/200, Loss: 0.0336\n",
      "Epoch 163/200, Loss: 0.0085\n",
      "Epoch 164/200, Loss: 0.0073\n",
      "Epoch 165/200, Loss: 0.0067\n",
      "Epoch 166/200, Loss: 0.0064\n",
      "Epoch 167/200, Loss: 0.0065\n",
      "Epoch 168/200, Loss: 0.0060\n",
      "Epoch 169/200, Loss: 0.0064\n",
      "Epoch 170/200, Loss: 0.0060\n",
      "Epoch 171/200, Loss: 0.0062\n",
      "Epoch 172/200, Loss: 0.0063\n",
      "Epoch 173/200, Loss: 0.0061\n",
      "Epoch 174/200, Loss: 0.0061\n",
      "Epoch 175/200, Loss: 0.0061\n",
      "Epoch 176/200, Loss: 0.0063\n",
      "Epoch 177/200, Loss: 0.0063\n",
      "Epoch 178/200, Loss: 0.0067\n",
      "Epoch 179/200, Loss: 0.0131\n",
      "Epoch 180/200, Loss: 0.3022\n",
      "Epoch 181/200, Loss: 0.0556\n",
      "Epoch 182/200, Loss: 0.0096\n",
      "Epoch 183/200, Loss: 0.0068\n",
      "Epoch 184/200, Loss: 0.0066\n",
      "Epoch 185/200, Loss: 0.0064\n",
      "Epoch 186/200, Loss: 0.0062\n",
      "Epoch 187/200, Loss: 0.0062\n",
      "Epoch 188/200, Loss: 0.0061\n",
      "Epoch 189/200, Loss: 0.0061\n",
      "Epoch 190/200, Loss: 0.0060\n",
      "Epoch 191/200, Loss: 0.0060\n",
      "Epoch 192/200, Loss: 0.0058\n",
      "Epoch 193/200, Loss: 0.0060\n",
      "Epoch 194/200, Loss: 0.0057\n",
      "Epoch 195/200, Loss: 0.0059\n",
      "Epoch 196/200, Loss: 0.0060\n",
      "Epoch 197/200, Loss: 0.0060\n",
      "Epoch 198/200, Loss: 0.0060\n",
      "Epoch 199/200, Loss: 0.0059\n",
      "Epoch 200/200, Loss: 0.0063\n",
      "Training complete. Model saved as 'poem_rnn_200_epochs.pth'.\n"
     ]
    }
   ],
   "source": [
    "num_epochs = 200  \n",
    "\n",
    "for epoch in range(num_epochs):\n",
    "    model.train()\n",
    "    epoch_loss = 0\n",
    "\n",
    "    for inputs, targets in dataloader:\n",
    "        inputs, targets = inputs.cuda(), targets.cuda()\n",
    "        \n",
    "        hidden = (\n",
    "            torch.zeros(num_layers, inputs.size(0), hidden_size).cuda(),\n",
    "            torch.zeros(num_layers, inputs.size(0), hidden_size).cuda(),\n",
    "        )\n",
    "\n",
    "        optimizer.zero_grad()\n",
    "        outputs, hidden = model(inputs, hidden)\n",
    "        loss = criterion(outputs, targets)\n",
    "        loss.backward()\n",
    "        optimizer.step()\n",
    "\n",
    "        epoch_loss += loss.item()\n",
    "\n",
    "    avg_loss = epoch_loss / len(dataloader)\n",
    "    print(f\"Epoch {epoch+1}/{num_epochs}, Loss: {avg_loss:.4f}\")\n",
    "\n",
    "# Save trained model\n",
    "torch.save(model.state_dict(), \"poem_rnn_200_epochs.pth\")\n",
    "print(\"Training complete. Model saved as 'poem_rnn_200_epochs.pth'.\")\n"
   ]
  },
  {
   "cell_type": "markdown",
   "id": "aea36a8f",
   "metadata": {
    "papermill": {
     "duration": 0.011349,
     "end_time": "2025-03-19T12:56:13.762595",
     "exception": false,
     "start_time": "2025-03-19T12:56:13.751246",
     "status": "completed"
    },
    "tags": []
   },
   "source": [
    "**Step 9: Poem Generation Function**"
   ]
  },
  {
   "cell_type": "code",
   "execution_count": 9,
   "id": "892cb16b",
   "metadata": {
    "execution": {
     "iopub.execute_input": "2025-03-19T12:56:13.786378Z",
     "iopub.status.busy": "2025-03-19T12:56:13.786120Z",
     "iopub.status.idle": "2025-03-19T12:56:13.793140Z",
     "shell.execute_reply": "2025-03-19T12:56:13.792259Z"
    },
    "papermill": {
     "duration": 0.020716,
     "end_time": "2025-03-19T12:56:13.794774",
     "exception": false,
     "start_time": "2025-03-19T12:56:13.774058",
     "status": "completed"
    },
    "tags": []
   },
   "outputs": [],
   "source": [
    "def generate_poem(start_words, length=100, temperature=0.8, top_k=5):\n",
    "    model.eval()\n",
    "    current_words = start_words\n",
    "    result = [word.capitalize() for word in current_words]\n",
    "\n",
    "    batch_size = 1\n",
    "    hidden = (\n",
    "        torch.zeros(num_layers, batch_size, hidden_size).cuda(),\n",
    "        torch.zeros(num_layers, batch_size, hidden_size).cuda(),\n",
    "    )\n",
    "\n",
    "    for _ in range(length - len(start_words)):  \n",
    "        input_tensor = torch.tensor([[word_vocab.get(current_words[-1], 0)]]).cuda()\n",
    "        output, hidden = model(input_tensor, hidden)\n",
    "\n",
    "        output = output / temperature\n",
    "        probabilities = F.softmax(output, dim=1).squeeze()\n",
    "        top_k_values, top_k_indices = torch.topk(probabilities, top_k)\n",
    "\n",
    "        best_word_idx = top_k_indices[random.randint(0, len(top_k_indices) - 1)]\n",
    "        next_word = vocab_reverse.get(best_word_idx.item(), \"<UNK>\")\n",
    "\n",
    "        if next_word in [\"<PAD>\", \"<UNK>\"]:\n",
    "            break\n",
    "\n",
    "        result.append(next_word)\n",
    "        current_words.append(next_word)\n",
    "\n",
    "        # Add line breaks\n",
    "        if len(result) % 8 == 0:\n",
    "            result.append(\"\\n\")  \n",
    "\n",
    "    poem = \" \".join(result)\n",
    "    poem = re.sub(r\"\\s+([.,!?])\", r\"\\1\", poem)  \n",
    "    poem = re.sub(r\"\\n\\s*\", \"\\n\", poem)  \n",
    "    return poem\n"
   ]
  },
  {
   "cell_type": "markdown",
   "id": "e1f8bb0d",
   "metadata": {
    "papermill": {
     "duration": 0.011151,
     "end_time": "2025-03-19T12:56:13.817300",
     "exception": false,
     "start_time": "2025-03-19T12:56:13.806149",
     "status": "completed"
    },
    "tags": []
   },
   "source": [
    "**Step 10: Generate & Display Poem**"
   ]
  },
  {
   "cell_type": "code",
   "execution_count": 10,
   "id": "5203e985",
   "metadata": {
    "execution": {
     "iopub.execute_input": "2025-03-19T12:56:13.840563Z",
     "iopub.status.busy": "2025-03-19T12:56:13.840336Z",
     "iopub.status.idle": "2025-03-19T12:56:13.969781Z",
     "shell.execute_reply": "2025-03-19T12:56:13.968957Z"
    },
    "papermill": {
     "duration": 0.142326,
     "end_time": "2025-03-19T12:56:13.970991",
     "exception": false,
     "start_time": "2025-03-19T12:56:13.828665",
     "status": "completed"
    },
    "tags": []
   },
   "outputs": [
    {
     "name": "stdout",
     "output_type": "stream",
     "text": [
      "Generated Poem:\n",
      " She Married it may call the last i \n",
      "but not lovers the kind of these \n",
      "the song and it to within a \n",
      "roots not is no first or myself, \n",
      "there is myself, for the first but \n",
      "it is eternal part all how for \n",
      "those and wait they be are, they \n",
      "\n"
     ]
    }
   ],
   "source": [
    "start_words = [\"she\", \"married\"]\n",
    "poem = generate_poem(start_words, length=50, temperature=0.8, top_k=5)\n",
    "\n",
    "print(\"Generated Poem:\\n\", poem)\n"
   ]
  }
 ],
 "metadata": {
  "kaggle": {
   "accelerator": "nvidiaTeslaT4",
   "dataSources": [
    {
     "datasetId": 2312897,
     "sourceId": 3893022,
     "sourceType": "datasetVersion"
    }
   ],
   "dockerImageVersionId": 30919,
   "isGpuEnabled": true,
   "isInternetEnabled": true,
   "language": "python",
   "sourceType": "notebook"
  },
  "kernelspec": {
   "display_name": "Python 3",
   "language": "python",
   "name": "python3"
  },
  "language_info": {
   "codemirror_mode": {
    "name": "ipython",
    "version": 3
   },
   "file_extension": ".py",
   "mimetype": "text/x-python",
   "name": "python",
   "nbconvert_exporter": "python",
   "pygments_lexer": "ipython3",
   "version": "3.10.12"
  },
  "papermill": {
   "default_parameters": {},
   "duration": 535.934975,
   "end_time": "2025-03-19T12:56:15.402778",
   "environment_variables": {},
   "exception": null,
   "input_path": "__notebook__.ipynb",
   "output_path": "__notebook__.ipynb",
   "parameters": {},
   "start_time": "2025-03-19T12:47:19.467803",
   "version": "2.6.0"
  }
 },
 "nbformat": 4,
 "nbformat_minor": 5
}
